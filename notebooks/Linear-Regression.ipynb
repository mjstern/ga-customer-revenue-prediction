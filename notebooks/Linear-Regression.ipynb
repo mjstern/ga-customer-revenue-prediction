{
 "cells": [
  {
   "cell_type": "markdown",
   "metadata": {},
   "source": [
    "# House Prices Attempt I: Linear Regression"
   ]
  },
  {
   "cell_type": "code",
   "execution_count": 1,
   "metadata": {},
   "outputs": [],
   "source": [
    "%matplotlib inline\n",
    "import matplotlib.pyplot as plt\n",
    "import seaborn as sns; sns.set()\n",
    "import numpy as np\n",
    "import pandas as pd"
   ]
  },
  {
   "cell_type": "code",
   "execution_count": 2,
   "metadata": {},
   "outputs": [
    {
     "name": "stdout",
     "output_type": "stream",
     "text": [
      "(1460, 81)\n"
     ]
    }
   ],
   "source": [
    "data = pd.read_csv(\"../data/train.csv\")\n",
    "data_augmented = pd.read_csv(\"../data-augmented/train_augmented.csv\")\n",
    "print(data.shape)"
   ]
  },
  {
   "cell_type": "code",
   "execution_count": 3,
   "metadata": {},
   "outputs": [],
   "source": [
    "from sklearn.linear_model import LinearRegression\n",
    "\n",
    "X = data_augmented\n",
    "y = data['SalePrice'][data_augmented.index]\n",
    "cv_split = 5\n",
    "\n",
    "model = LinearRegression()\n",
    "model.fit(X,y);"
   ]
  },
  {
   "cell_type": "code",
   "execution_count": 4,
   "metadata": {},
   "outputs": [
    {
     "name": "stdout",
     "output_type": "stream",
     "text": [
      "Accuracy: 0.80 (+/- 0.14)\n"
     ]
    }
   ],
   "source": [
    "from sklearn.model_selection import cross_val_score\n",
    "cv_score = cross_val_score(model, X, y, cv=cv_split)\n",
    "print(\"Accuracy: %0.2f (+/- %0.2f)\" % (cv_score.mean(), cv_score.std() * 2))"
   ]
  },
  {
   "cell_type": "markdown",
   "metadata": {},
   "source": [
    "So this cross validation (CV) accuracy value means that the model accounts for about 80% of the variance in the CV dataset. Not too bad for one of the simplest models I could think of, but not exactly ready to ship. Now I can adjust the model to try and maximize the CV score. First step is to add regularization by using a ridge regressor instead of a plain linear model, then optimize the regulraization paramater *alpha* to achieve the best cross validation score."
   ]
  },
  {
   "cell_type": "code",
   "execution_count": 5,
   "metadata": {},
   "outputs": [
    {
     "name": "stdout",
     "output_type": "stream",
     "text": [
      "Accuracy: 0.83 (+/- 0.15)\n"
     ]
    }
   ],
   "source": [
    "from sklearn.linear_model import Ridge\n",
    "from sklearn.model_selection import GridSearchCV\n",
    "\n",
    "param_grid = {'alpha': [0, 0.03, .1, .3, 1, 3, 10, 30, 100, 300]}\n",
    "\n",
    "grid = GridSearchCV(Ridge(),param_grid, cv = cv_split)\n",
    "grid.fit(X,y)\n",
    "model = grid.best_estimator_\n",
    "cv_score = cross_val_score(model, X, y, cv=cv_split)\n",
    "print(\"Accuracy: %0.2f (+/- %0.2f)\" % (cv_score.mean(), cv_score.std() * 2))"
   ]
  },
  {
   "cell_type": "code",
   "execution_count": null,
   "metadata": {},
   "outputs": [],
   "source": []
  }
 ],
 "metadata": {
  "kernelspec": {
   "display_name": "Python 3",
   "language": "python",
   "name": "python3"
  },
  "language_info": {
   "codemirror_mode": {
    "name": "ipython",
    "version": 3
   },
   "file_extension": ".py",
   "mimetype": "text/x-python",
   "name": "python",
   "nbconvert_exporter": "python",
   "pygments_lexer": "ipython3",
   "version": "3.7.1"
  }
 },
 "nbformat": 4,
 "nbformat_minor": 2
}
