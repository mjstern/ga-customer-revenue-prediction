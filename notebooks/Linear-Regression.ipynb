{
 "cells": [
  {
   "cell_type": "markdown",
   "metadata": {},
   "source": [
    "# House Prices Attempt I: Linear Regression"
   ]
  },
  {
   "cell_type": "markdown",
   "metadata": {},
   "source": [
    "For my first non-physics machine learning project I will be testing out various techniques on a straightforward house prices dataset. The first attempt will be a simple linear regression. The plan is to use one hot encoding (etc.) to deal with the categorical data which should be easy to do with the **pandas** toolset. I also expect some ordinal features will not lend well to a simple linear model, so I will also try making up some nonlinear features (*e.g.* (Overall Quality)^2).  I expect that the number of features may become unwieldly, but we will see :)."
   ]
  },
  {
   "cell_type": "markdown",
   "metadata": {},
   "source": [
    "Standard imports:"
   ]
  },
  {
   "cell_type": "code",
   "execution_count": 202,
   "metadata": {},
   "outputs": [],
   "source": [
    "%matplotlib inline\n",
    "import matplotlib.pyplot as plt\n",
    "import seaborn as sns; sns.set()\n",
    "import numpy as np\n",
    "import pandas as pd"
   ]
  },
  {
   "cell_type": "markdown",
   "metadata": {},
   "source": [
    "Load raw training data:"
   ]
  },
  {
   "cell_type": "code",
   "execution_count": null,
   "metadata": {},
   "outputs": [],
   "source": [
    "data = pd.read_csv(\"../data/train.csv\")\n",
    "print(data.shape)"
   ]
  },
  {
   "cell_type": "markdown",
   "metadata": {},
   "source": [
    "OK, so there are $m = 1460$ training examples and $n = 80$ features (ignoring 'Id'). So I'm pretty sure after one hot encoding $n$ will be approaching $m$. This may be bad but I'm going to allow it just to see what happens."
   ]
  },
  {
   "cell_type": "markdown",
   "metadata": {},
   "source": [
    "## One hot encoding\n",
    "Here are the categorical features that I have decided to encode:"
   ]
  },
  {
   "cell_type": "code",
   "execution_count": null,
   "metadata": {},
   "outputs": [],
   "source": [
    "ohe_categories = [\n",
    "    'MSSubClass',\n",
    "    'MSZoning',\n",
    "    'Street',\n",
    "    'Alley',\n",
    "    'LotShape',\n",
    "    'LandContour',\n",
    "    'LotConfig',\n",
    "    'Neighborhood',\n",
    "    'Condition1',\n",
    "    'Condition2',\n",
    "    'BldgType',\n",
    "    'HouseStyle',\n",
    "    'RoofStyle',\n",
    "    'RoofMatl',\n",
    "    'Exterior1st',\n",
    "    'Exterior2nd',\n",
    "    'MasVnrType',\n",
    "    'Foundation',\n",
    "    'Heating',\n",
    "    'Electrical',\n",
    "    'GarageType',\n",
    "    'MiscFeature',\n",
    "    'SaleType',\n",
    "    'SaleCondition'\n",
    "]\n",
    "data_augmented_1 = pd.get_dummies(data[ohe_categories])\n",
    "data_augmented_1.head()"
   ]
  },
  {
   "cell_type": "markdown",
   "metadata": {},
   "source": [
    "I will add the treated data to the *data_augmented* variable as I go."
   ]
  },
  {
   "cell_type": "markdown",
   "metadata": {},
   "source": [
    "## Ordinal data mapping"
   ]
  },
  {
   "cell_type": "markdown",
   "metadata": {},
   "source": [
    "I will use the **pd.DataFrame.cat** functionality to map the ordinal data to numbers. I will just map them as natural numbers for now. Here are the categories that will need maping."
   ]
  },
  {
   "cell_type": "code",
   "execution_count": null,
   "metadata": {},
   "outputs": [],
   "source": [
    "odm_ordered_lists = {\n",
    "    'Utilities': ['ELO', 'NoSeWa', 'NoSewr', 'AllPub'],\n",
    "    'LandSlope': ['Sev', 'Mod', 'Gtl'],\n",
    "    'ExterQual': ['Po', 'Fa', 'TA', 'Gd', 'Ex'],\n",
    "    'ExterCond': ['Po', 'Fa', 'TA', 'Gd', 'Ex'],\n",
    "    'BsmtQual': ['Po', 'Fa', 'TA', 'Gd', 'Ex'],\n",
    "    'BsmtCond': ['Po', 'Fa', 'TA', 'Gd', 'Ex'],\n",
    "    'BsmtExposure': ['No', 'Mn', 'Av', 'Gd'],\n",
    "    'BsmtFinType1': ['Unf', 'LwQ', 'Rec', 'BLQ', 'ALQ', 'GLQ'],\n",
    "    'BsmtFinType2': ['Unf', 'LwQ', 'Rec', 'BLQ', 'ALQ', 'GLQ'],\n",
    "    'KitchenQual': ['Po', 'Fa', 'TA', 'Gd', 'Ex'], \n",
    "    'Functional': ['Sal', 'Sev', 'Maj2', 'Maj1', 'Mod', 'Min2', 'Min1', 'Typ'],\n",
    "    'FireplaceQu': ['Po', 'Fa', 'TA', 'Gd', 'Ex'],\n",
    "    'GarageFinish': ['Unf', 'RFn','Fin'],\n",
    "    'GarageQual': ['Po', 'Fa', 'TA', 'Gd', 'Ex'],\n",
    "    'GarageCond': ['Po', 'Fa', 'TA', 'Gd', 'Ex'],\n",
    "    'PavedDrive': ['Y', 'P', 'N'],\n",
    "    'PoolQC': ['Fa', 'TA', 'Gd', 'Ex'],\n",
    "    'Fence': ['MnWw', 'GdWo', 'MnPrv', 'GdPrv'],    \n",
    "}\n",
    "\n",
    "def index_exclude_nan(ordered_list,string):\n",
    "    \"\"\"The NaN's will be set to 0 since not having something is probably bad.\n",
    "       Also add 1 to the indices so they are always natural numbers.\"\"\"\n",
    "    if isinstance(string, str):\n",
    "        return ordered_list.index(string)+1\n",
    "    else:\n",
    "        return 0\n",
    "        \n",
    "def odm(series,ordered_list):\n",
    "    \"Quick and dirty way to map series entry to ordered_list index\"\n",
    "    return list(map(lambda x: index_exclude_nan(ordered_list,x),series))\n",
    "\n",
    "data_augmented_2 = pd.DataFrame()\n",
    "for cat in odm_ordered_lists:\n",
    "    data_augmented_2[cat] = odm(data[cat],odm_ordered_lists[cat])\n",
    "\n",
    "data_augmented_2.head()"
   ]
  }
 ],
 "metadata": {
  "kernelspec": {
   "display_name": "Python 3",
   "language": "python",
   "name": "python3"
  },
  "language_info": {
   "codemirror_mode": {
    "name": "ipython",
    "version": 3
   },
   "file_extension": ".py",
   "mimetype": "text/x-python",
   "name": "python",
   "nbconvert_exporter": "python",
   "pygments_lexer": "ipython3",
   "version": "3.7.1"
  }
 },
 "nbformat": 4,
 "nbformat_minor": 2
}
